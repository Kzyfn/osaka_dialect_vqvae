{
 "cells": [
  {
   "cell_type": "code",
   "execution_count": 7,
   "metadata": {},
   "outputs": [
    {
     "name": "stderr",
     "output_type": "stream",
     "text": [
      "1it [00:00, 67.11it/s]"
     ]
    },
    {
     "name": "stdout",
     "output_type": "stream",
     "text": [
      "xx^xx-sil+k=o/A:xx+xx+xx/B:xx-xx_xx/C:xx_xx+xx/D:07+xx_xx/E:xx_xx!xx_xx-xx/F:xx_xx#xx_xx@xx_xx|xx_xx/G:2_2%0_xx-xx/H:xx_xx/I:xx-xx@xx+xx&xx-xx|xx+xx/J:5_26/K:1+5-26\n",
      "xx^sil-k+o=n/A:-1+1+2/B:xx-xx_xx/C:07_xx+xx/D:02+xx_xx/E:xx_xx!xx_xx-xx/F:2_2#0_xx@1_5|1_26/G:7_1%0_xx-1/H:xx_xx/I:5-26@1+1&1-5|1+26/J:xx_xx/K:1+5-26\n",
      "sil^k-o+n=o/A:-1+1+2/B:xx-xx_xx/C:07_xx+xx/D:02+xx_xx/E:xx_xx!xx_xx-xx/F:2_2#0_xx@1_5|1_26/G:7_1%0_xx-1/H:xx_xx/I:5-26@1+1&1-5|1+26/J:xx_xx/K:1+5-26\n",
      "k^o-n+o=ts/A:0+2+1/B:xx-xx_xx/C:07_xx+xx/D:02+xx_xx/E:xx_xx!xx_xx-xx/F:2_2#0_xx@1_5|1_26/G:7_1%0_xx-1/H:xx_xx/I:5-26@1+1&1-5|1+26/J:xx_xx/K:1+5-26\n",
      "o^n-o+ts=u/A:0+2+1/B:xx-xx_xx/C:07_xx+xx/D:02+xx_xx/E:xx_xx!xx_xx-xx/F:2_2#0_xx@1_5|1_26/G:7_1%0_xx-1/H:xx_xx/I:5-26@1+1&1-5|1+26/J:xx_xx/K:1+5-26\n",
      "n^o-ts+u=a/A:0+1+7/B:07-xx_xx/C:02_xx+xx/D:10+7_1/E:2_2!0_xx-1/F:7_1#0_xx@2_4|3_24/G:7_4%0_xx-1/H:xx_xx/I:5-26@1+1&1-5|1+26/J:xx_xx/K:1+5-26\n",
      "o^ts-u+a=a/A:0+1+7/B:07-xx_xx/C:02_xx+xx/D:10+7_1/E:2_2!0_xx-1/F:7_1#0_xx@2_4|3_24/G:7_4%0_xx-1/H:xx_xx/I:5-26@1+1&1-5|1+26/J:xx_xx/K:1+5-26\n",
      "ts^u-a+a=y/A:1+2+6/B:07-xx_xx/C:02_xx+xx/D:10+7_1/E:2_2!0_xx-1/F:7_1#0_xx@2_4|3_24/G:7_4%0_xx-1/H:xx_xx/I:5-26@1+1&1-5|1+26/J:xx_xx/K:1+5-26\n",
      "u^a-a+y=a/A:2+3+5/B:07-xx_xx/C:02_xx+xx/D:10+7_1/E:2_2!0_xx-1/F:7_1#0_xx@2_4|3_24/G:7_4%0_xx-1/H:xx_xx/I:5-26@1+1&1-5|1+26/J:xx_xx/K:1+5-26\n",
      "a^a-y+a=cl/A:3+4+4/B:02-xx_xx/C:10_7+1/D:10+7_4/E:2_2!0_xx-1/F:7_1#0_xx@2_4|3_24/G:7_4%0_xx-1/H:xx_xx/I:5-26@1+1&1-5|1+26/J:xx_xx/K:1+5-26\n",
      "a^y-a+cl=t/A:3+4+4/B:02-xx_xx/C:10_7+1/D:10+7_4/E:2_2!0_xx-1/F:7_1#0_xx@2_4|3_24/G:7_4%0_xx-1/H:xx_xx/I:5-26@1+1&1-5|1+26/J:xx_xx/K:1+5-26\n",
      "y^a-cl+t=a/A:4+5+3/B:02-xx_xx/C:10_7+1/D:10+7_4/E:2_2!0_xx-1/F:7_1#0_xx@2_4|3_24/G:7_4%0_xx-1/H:xx_xx/I:5-26@1+1&1-5|1+26/J:xx_xx/K:1+5-26\n",
      "a^cl-t+a=r/A:5+6+2/B:10-7_1/C:10_7+4/D:18+xx_xx/E:2_2!0_xx-1/F:7_1#0_xx@2_4|3_24/G:7_4%0_xx-1/H:xx_xx/I:5-26@1+1&1-5|1+26/J:xx_xx/K:1+5-26\n",
      "cl^t-a+r=a/A:5+6+2/B:10-7_1/C:10_7+4/D:18+xx_xx/E:2_2!0_xx-1/F:7_1#0_xx@2_4|3_24/G:7_4%0_xx-1/H:xx_xx/I:5-26@1+1&1-5|1+26/J:xx_xx/K:1+5-26\n",
      "t^a-r+a=o/A:6+7+1/B:10-7_1/C:10_7+4/D:18+xx_xx/E:2_2!0_xx-1/F:7_1#0_xx@2_4|3_24/G:7_4%0_xx-1/H:xx_xx/I:5-26@1+1&1-5|1+26/J:xx_xx/K:1+5-26\n",
      "a^r-a+o=o/A:6+7+1/B:10-7_1/C:10_7+4/D:18+xx_xx/E:2_2!0_xx-1/F:7_1#0_xx@2_4|3_24/G:7_4%0_xx-1/H:xx_xx/I:5-26@1+1&1-5|1+26/J:xx_xx/K:1+5-26\n",
      "r^a-o+o=s/A:-3+1+7/B:10-7_4/C:18_xx+xx/D:24+xx_xx/E:7_1!0_xx-1/F:7_4#0_xx@3_3|10_17/G:6_1%0_xx-1/H:xx_xx/I:5-26@1+1&1-5|1+26/J:xx_xx/K:1+5-26\n",
      "a^o-o+s=a/A:-2+2+6/B:10-7_4/C:18_xx+xx/D:24+xx_xx/E:7_1!0_xx-1/F:7_4#0_xx@3_3|10_17/G:6_1%0_xx-1/H:xx_xx/I:5-26@1+1&1-5|1+26/J:xx_xx/K:1+5-26\n",
      "o^o-s+a=k/A:-1+3+5/B:10-7_4/C:18_xx+xx/D:24+xx_xx/E:7_1!0_xx-1/F:7_4#0_xx@3_3|10_17/G:6_1%0_xx-1/H:xx_xx/I:5-26@1+1&1-5|1+26/J:xx_xx/K:1+5-26\n",
      "o^s-a+k=a/A:-1+3+5/B:10-7_4/C:18_xx+xx/D:24+xx_xx/E:7_1!0_xx-1/F:7_4#0_xx@3_3|10_17/G:6_1%0_xx-1/H:xx_xx/I:5-26@1+1&1-5|1+26/J:xx_xx/K:1+5-26\n",
      "s^a-k+a=j/A:0+4+4/B:10-7_4/C:18_xx+xx/D:24+xx_xx/E:7_1!0_xx-1/F:7_4#0_xx@3_3|10_17/G:6_1%0_xx-1/H:xx_xx/I:5-26@1+1&1-5|1+26/J:xx_xx/K:1+5-26\n",
      "a^k-a+j=o/A:0+4+4/B:10-7_4/C:18_xx+xx/D:24+xx_xx/E:7_1!0_xx-1/F:7_4#0_xx@3_3|10_17/G:6_1%0_xx-1/H:xx_xx/I:5-26@1+1&1-5|1+26/J:xx_xx/K:1+5-26\n",
      "k^a-j+o=o/A:1+5+3/B:10-7_4/C:18_xx+xx/D:24+xx_xx/E:7_1!0_xx-1/F:7_4#0_xx@3_3|10_17/G:6_1%0_xx-1/H:xx_xx/I:5-26@1+1&1-5|1+26/J:xx_xx/K:1+5-26\n",
      "a^j-o+o=m/A:1+5+3/B:10-7_4/C:18_xx+xx/D:24+xx_xx/E:7_1!0_xx-1/F:7_4#0_xx@3_3|10_17/G:6_1%0_xx-1/H:xx_xx/I:5-26@1+1&1-5|1+26/J:xx_xx/K:1+5-26\n",
      "j^o-o+m=o/A:2+6+2/B:10-7_4/C:18_xx+xx/D:24+xx_xx/E:7_1!0_xx-1/F:7_4#0_xx@3_3|10_17/G:6_1%0_xx-1/H:xx_xx/I:5-26@1+1&1-5|1+26/J:xx_xx/K:1+5-26\n",
      "o^o-m+o=ch/A:3+7+1/B:18-xx_xx/C:24_xx+xx/D:06+xx_xx/E:7_1!0_xx-1/F:7_4#0_xx@3_3|10_17/G:6_1%0_xx-1/H:xx_xx/I:5-26@1+1&1-5|1+26/J:xx_xx/K:1+5-26\n",
      "o^m-o+ch=o/A:3+7+1/B:18-xx_xx/C:24_xx+xx/D:06+xx_xx/E:7_1!0_xx-1/F:7_4#0_xx@3_3|10_17/G:6_1%0_xx-1/H:xx_xx/I:5-26@1+1&1-5|1+26/J:xx_xx/K:1+5-26\n",
      "m^o-ch+o=cl/A:0+1+6/B:24-xx_xx/C:06_xx+xx/D:10+7_2/E:7_4!0_xx-1/F:6_1#0_xx@4_2|17_10/G:4_1%0_xx-1/H:xx_xx/I:5-26@1+1&1-5|1+26/J:xx_xx/K:1+5-26\n",
      "o^ch-o+cl=t/A:0+1+6/B:24-xx_xx/C:06_xx+xx/D:10+7_2/E:7_4!0_xx-1/F:6_1#0_xx@4_2|17_10/G:4_1%0_xx-1/H:xx_xx/I:5-26@1+1&1-5|1+26/J:xx_xx/K:1+5-26\n",
      "ch^o-cl+t=o/A:1+2+5/B:24-xx_xx/C:06_xx+xx/D:10+7_2/E:7_4!0_xx-1/F:6_1#0_xx@4_2|17_10/G:4_1%0_xx-1/H:xx_xx/I:5-26@1+1&1-5|1+26/J:xx_xx/K:1+5-26\n",
      "o^cl-t+o=y/A:2+3+4/B:24-xx_xx/C:06_xx+xx/D:10+7_2/E:7_4!0_xx-1/F:6_1#0_xx@4_2|17_10/G:4_1%0_xx-1/H:xx_xx/I:5-26@1+1&1-5|1+26/J:xx_xx/K:1+5-26\n",
      "cl^t-o+y=a/A:2+3+4/B:24-xx_xx/C:06_xx+xx/D:10+7_2/E:7_4!0_xx-1/F:6_1#0_xx@4_2|17_10/G:4_1%0_xx-1/H:xx_xx/I:5-26@1+1&1-5|1+26/J:xx_xx/K:1+5-26\n",
      "t^o-y+a=k/A:3+4+3/B:06-xx_xx/C:10_7+2/D:12+xx_xx/E:7_4!0_xx-1/F:6_1#0_xx@4_2|17_10/G:4_1%0_xx-1/H:xx_xx/I:5-26@1+1&1-5|1+26/J:xx_xx/K:1+5-26\n",
      "o^y-a+k=e/A:3+4+3/B:06-xx_xx/C:10_7+2/D:12+xx_xx/E:7_4!0_xx-1/F:6_1#0_xx@4_2|17_10/G:4_1%0_xx-1/H:xx_xx/I:5-26@1+1&1-5|1+26/J:xx_xx/K:1+5-26\n",
      "y^a-k+e=d/A:4+5+2/B:10-7_2/C:12_xx+xx/D:20+3_4/E:7_4!0_xx-1/F:6_1#0_xx@4_2|17_10/G:4_1%0_xx-1/H:xx_xx/I:5-26@1+1&1-5|1+26/J:xx_xx/K:1+5-26\n",
      "a^k-e+d=o/A:4+5+2/B:10-7_2/C:12_xx+xx/D:20+3_4/E:7_4!0_xx-1/F:6_1#0_xx@4_2|17_10/G:4_1%0_xx-1/H:xx_xx/I:5-26@1+1&1-5|1+26/J:xx_xx/K:1+5-26\n",
      "k^e-d+o=m/A:5+6+1/B:10-7_2/C:12_xx+xx/D:20+3_4/E:7_4!0_xx-1/F:6_1#0_xx@4_2|17_10/G:4_1%0_xx-1/H:xx_xx/I:5-26@1+1&1-5|1+26/J:xx_xx/K:1+5-26\n",
      "e^d-o+m=i/A:5+6+1/B:10-7_2/C:12_xx+xx/D:20+3_4/E:7_4!0_xx-1/F:6_1#0_xx@4_2|17_10/G:4_1%0_xx-1/H:xx_xx/I:5-26@1+1&1-5|1+26/J:xx_xx/K:1+5-26\n",
      "d^o-m+i=r/A:0+1+4/B:12-xx_xx/C:20_3+4/D:12+xx_xx/E:6_1!0_xx-1/F:4_1#0_xx@5_1|23_4/G:xx_xx%xx_xx-xx/H:xx_xx/I:5-26@1+1&1-5|1+26/J:xx_xx/K:1+5-26\n",
      "o^m-i+r=e/A:0+1+4/B:12-xx_xx/C:20_3+4/D:12+xx_xx/E:6_1!0_xx-1/F:4_1#0_xx@5_1|23_4/G:xx_xx%xx_xx-xx/H:xx_xx/I:5-26@1+1&1-5|1+26/J:xx_xx/K:1+5-26\n",
      "m^i-r+e=N/A:1+2+3/B:12-xx_xx/C:20_3+4/D:12+xx_xx/E:6_1!0_xx-1/F:4_1#0_xx@5_1|23_4/G:xx_xx%xx_xx-xx/H:xx_xx/I:5-26@1+1&1-5|1+26/J:xx_xx/K:1+5-26\n",
      "i^r-e+N=d/A:1+2+3/B:12-xx_xx/C:20_3+4/D:12+xx_xx/E:6_1!0_xx-1/F:4_1#0_xx@5_1|23_4/G:xx_xx%xx_xx-xx/H:xx_xx/I:5-26@1+1&1-5|1+26/J:xx_xx/K:1+5-26\n",
      "r^e-N+d=e/A:2+3+2/B:20-3_4/C:12_xx+xx/D:xx+xx_xx/E:6_1!0_xx-1/F:4_1#0_xx@5_1|23_4/G:xx_xx%xx_xx-xx/H:xx_xx/I:5-26@1+1&1-5|1+26/J:xx_xx/K:1+5-26\n",
      "e^N-d+e=sil/A:3+4+1/B:20-3_4/C:12_xx+xx/D:xx+xx_xx/E:6_1!0_xx-1/F:4_1#0_xx@5_1|23_4/G:xx_xx%xx_xx-xx/H:xx_xx/I:5-26@1+1&1-5|1+26/J:xx_xx/K:1+5-26\n",
      "N^d-e+sil=xx/A:3+4+1/B:20-3_4/C:12_xx+xx/D:xx+xx_xx/E:6_1!0_xx-1/F:4_1#0_xx@5_1|23_4/G:xx_xx%xx_xx-xx/H:xx_xx/I:5-26@1+1&1-5|1+26/J:xx_xx/K:1+5-26\n",
      "d^e-sil+xx=xx/A:xx+xx+xx/B:12-xx_xx/C:xx_xx+xx/D:xx+xx_xx/E:4_1!0_xx-xx/F:xx_xx#xx_xx@xx_xx|xx_xx/G:xx_xx%xx_xx-xx/H:5_26/I:xx-xx@xx+xx&xx-xx|xx+xx/J:xx_xx/K:1+5-26\n",
      "[146.99998 198.99998 238.99998 258.99998 272.99998 320.99998 328.99998\n",
      " 344.99998 376.99998 388.99998 404.99996 442.99998 458.99998 486.99998\n",
      " 508.99998 522.99998 634.99998 644.99998 668.99998 692.99998 714.99998\n",
      " 738.99998 764.99998 794.99998 804.99998 886.99998]\n",
      "(26,)\n",
      "26\n"
     ]
    },
    {
     "name": "stderr",
     "output_type": "stream",
     "text": [
      "\n"
     ]
    }
   ],
   "source": [
    "import sys\n",
    "\n",
    "\n",
    "import numpy as np\n",
    "from nnmnkwii.io import hts\n",
    "from os.path import join\n",
    "from glob import glob\n",
    "from tqdm import tqdm\n",
    "\n",
    "\n",
    "paths = sorted(glob(join(\"../data\", \"label_phone_align\", \"*.lab\")))\n",
    "\n",
    "for i, filepath in tqdm(enumerate(paths[:1])):\n",
    "    label = hts.load(filepath)\n",
    "\n",
    "    end_times_ = label.end_times\n",
    "    end_times = []\n",
    "\n",
    "    for j, end_time in enumerate(end_times_):\n",
    "        str_tmp = str(label[j][2])\n",
    "        print(str_tmp)\n",
    "        if (\n",
    "            \"-a+\" in str_tmp\n",
    "            or \"-i+\" in str_tmp\n",
    "            or \"-u+\" in str_tmp\n",
    "            or \"-e+\" in str_tmp\n",
    "            or \"-o+\" in str_tmp\n",
    "            or \"-cl+\" in str_tmp\n",
    "            or \"-N+\" in str_tmp\n",
    "            or \"-A+\" in str_tmp\n",
    "            or \"-I+\" in str_tmp\n",
    "            or \"-U+\" in str_tmp\n",
    "            or \"-E+\" in str_tmp\n",
    "            or \"-O+\" in str_tmp\n",
    "        ):\n",
    "            end_times.append(end_time - 1)\n",
    "\n",
    "    end_index = np.array(end_times) / 50000 - 1\n",
    "    print(end_index)\n",
    "    print(end_index.shape)\n",
    "\n",
    "    mora_index = np.array([0] * int(end_index[-1]))\n",
    "\n",
    "    mora_index = [\n",
    "        1 if i in list(end_index.astype(int)) else 0\n",
    "        for i in range(end_index[-1].astype(int) + 1)\n",
    "    ]\n",
    "    print(np.array(mora_index).sum())\n",
    "    indices = label.silence_frame_indices().astype(int)\n",
    "\n",
    "    indices = indices[indices < len(mora_index)]\n",
    "    mora_index = np.delete(mora_index, indices, axis=0)\n",
    "    mora_index = mora_index.nonzero()[0] + 2\n",
    "\n",
    "    np.savetxt(\n",
    "        \"../data/mora_index/squeezed_mora_index_\"\n",
    "        + \"0\" * (4 - len(str(i + 1)))\n",
    "        + str(i + 1)\n",
    "        + \".csv\",\n",
    "        mora_index,\n",
    "    )"
   ]
  },
  {
   "cell_type": "code",
   "execution_count": 5,
   "metadata": {},
   "outputs": [
    {
     "data": {
      "text/plain": [
       "'../data/label_phone_align/OSAKA1300_0001.lab'"
      ]
     },
     "execution_count": 5,
     "metadata": {},
     "output_type": "execute_result"
    }
   ],
   "source": [
    "filepath"
   ]
  },
  {
   "cell_type": "code",
   "execution_count": null,
   "metadata": {},
   "outputs": [],
   "source": []
  }
 ],
 "metadata": {
  "kernelspec": {
   "display_name": "Python 3",
   "language": "python",
   "name": "python3"
  },
  "language_info": {
   "codemirror_mode": {
    "name": "ipython",
    "version": 3
   },
   "file_extension": ".py",
   "mimetype": "text/x-python",
   "name": "python",
   "nbconvert_exporter": "python",
   "pygments_lexer": "ipython3",
   "version": "3.6.10"
  }
 },
 "nbformat": 4,
 "nbformat_minor": 4
}
